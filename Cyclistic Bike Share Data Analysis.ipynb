{
 "cells": [
  {
   "cell_type": "markdown",
   "id": "c1711af8",
   "metadata": {},
   "source": [
    "## Cyclistic Bike Share Data Analysis"
   ]
  },
  {
   "cell_type": "markdown",
   "id": "71874465",
   "metadata": {},
   "source": [
    "### Introduction"
   ]
  },
  {
   "cell_type": "markdown",
   "id": "d6990ee8",
   "metadata": {},
   "source": [
    "This case study is the Capstone Project for the Google Data Analytics Professional Certificate. In this case study, I am a junior data analyst in the marketing analyst team at Cyclistic, a fictitious bike-share company in Chicago.\n",
    "\n",
    "Cyclistic is a bike-share programme with over 5,800 bicycles and 600 docking stations. Cyclistic distinguishes itself by also providing reclining bikes, hand tricycles, and cargo bikes, making bike-share more accessible to people with disabilities and riders who cannot use a standard two-wheeled bike. The majority of riders prefer traditional bikes, with approximately 8% opting for assistive options. Cyclists are more likely to ride for pleasure, but about 30% use them to commute to work every day.\n",
    "\n",
    "Cyclistic launched a successful bike-share programme in 2016. Since then, the programme has grown to a fleet of 5,824 geotracked bicycles that are locked into a network of 692 stations throughout Chicago. The bikes can be unlocked at any time from any station in the system and returned to any other station in the system.\n",
    "\n",
    "The director of marketing believes that increasing the number of annual memberships is critical to the company's future success. As a result, my team is interested in learning how casual riders and annual members use Cyclistic bikes differently. Our team will develop a new marketing strategy based on the findings to convert casual riders into annual members. However, Cyclistic executives must first approve our recommendations, which must be supported by compelling data insights and professional data visualisations.\n",
    "\n",
    "There are 3 pricing plans: single-ride passes, full-day passes, and annual memberships. Customers who purchase single-ride or full-day passes are referred to as Casual riders. Customers who purchase annual memberships are Cyclistic members.\n",
    "\n",
    "In order to answer the key business questions, I followed the steps of the data analysis process: ask, prepare, process, analyze, share, and act.\n",
    "\n"
   ]
  },
  {
   "cell_type": "markdown",
   "id": "25566e65",
   "metadata": {},
   "source": [
    "### Ask\n",
    "\n",
    "How do Annual members and Casual riders use Cyclistic bikes differently?\n",
    "\n",
    "The key stakeholders are:\n",
    "\n",
    "1. Lily Moreno, the director of marketing and my manager.\n",
    "2. Cyclistic executive team.\n",
    "\n"
   ]
  },
  {
   "cell_type": "markdown",
   "id": "093a4b43",
   "metadata": {},
   "source": [
    "### Prepare\n",
    "\n",
    "The data I used is Cyclistic’s Historical Trip Data to analyze and identify trends.\n",
    "\n",
    "The previous 12 months data from 01 April 2022 to 30th March 2023 is used for analysis.\n",
    "\n",
    "The data is stored in CSV files. Each file contains one month data. Thus a total of 12 .csv files.\n",
    "\n",
    "The data is structured data ie., Organised data.\n",
    "\n",
    "The datasets have a different name because Cyclistic is a fictional company. For the purposes of this case study, the datasets are appropriate.\n",
    "\n",
    "The data has been made available by Motivate International Inc.\n",
    "\n",
    "As this data is collected by a real bike sharing company in Chicago, there are no issues with bias or credibility. So its Reliable, Original, Current and Cited (as in ROCCC). \n",
    "\n",
    "As of data Integrity, its Accurate, Consistent and Trustworthy."
   ]
  },
  {
   "cell_type": "markdown",
   "id": "4ac7b6cc",
   "metadata": {},
   "source": [
    "### Process"
   ]
  },
  {
   "cell_type": "markdown",
   "id": "9103229b",
   "metadata": {},
   "source": [
    "### Importing all the necessary libraries\n"
   ]
  },
  {
   "cell_type": "code",
   "execution_count": 1,
   "id": "1105a1dd",
   "metadata": {
    "scrolled": true
   },
   "outputs": [],
   "source": [
    "import numpy as np\n",
    "import pandas as pd\n",
    "from pandas.api.types import CategoricalDtype\n",
    "import matplotlib.pyplot as plt\n",
    "import seaborn as sns"
   ]
  },
  {
   "cell_type": "code",
   "execution_count": 2,
   "id": "ca022f6d",
   "metadata": {
    "scrolled": true
   },
   "outputs": [],
   "source": [
    "%matplotlib inline"
   ]
  },
  {
   "cell_type": "markdown",
   "id": "443a931a",
   "metadata": {},
   "source": [
    "### Importing 12 csv files"
   ]
  },
  {
   "cell_type": "code",
   "execution_count": 3,
   "id": "c943afe8",
   "metadata": {
    "scrolled": true
   },
   "outputs": [],
   "source": [
    "Apr_2022 = pd.read_csv(\"C:/Users/deven/Downloads/Cycle/202204-divvy-tripdata.csv\")\n",
    "May_2022 = pd.read_csv(\"C:/Users/deven/Downloads/Cycle/202205-divvy-tripdata.csv\")\n",
    "Jun_2022 = pd.read_csv(\"C:/Users/deven/Downloads/Cycle/202206-divvy-tripdata.csv\")\n",
    "Jul_2022 = pd.read_csv(\"C:/Users/deven/Downloads/Cycle/202207-divvy-tripdata.csv\")\n",
    "Aug_2022 = pd.read_csv(\"C:/Users/deven/Downloads/Cycle/202208-divvy-tripdata.csv\")\n",
    "Sep_2022 = pd.read_csv(\"C:/Users/deven/Downloads/Cycle/202209-divvy-publictripdata.csv\")\n",
    "Oct_2022 = pd.read_csv(\"C:/Users/deven/Downloads/Cycle/202210-divvy-tripdata.csv\")\n",
    "Nov_2022 = pd.read_csv(\"C:/Users/deven/Downloads/Cycle/202211-divvy-tripdata.csv\")\n",
    "Dec_2022 = pd.read_csv(\"C:/Users/deven/Downloads/Cycle/202212-divvy-tripdata.csv\")\n",
    "Jan_2023 = pd.read_csv(\"C:/Users/deven/Downloads/Cycle/202301-divvy-tripdata.csv\")\n",
    "Feb_2023 = pd.read_csv(\"C:/Users/deven/Downloads/Cycle/202302-divvy-tripdata.csv\")\n",
    "Mar_2023 = pd.read_csv(\"C:/Users/deven/Downloads/Cycle/202303-divvy-tripdata.csv\")"
   ]
  },
  {
   "cell_type": "markdown",
   "id": "3ecdffff",
   "metadata": {},
   "source": [
    "### Joining 12 CSV's as 1"
   ]
  },
  {
   "cell_type": "code",
   "execution_count": 4,
   "id": "b40dd8aa",
   "metadata": {
    "scrolled": true
   },
   "outputs": [],
   "source": [
    "df = pd.concat([Apr_2022,May_2022,Jun_2022,Jul_2022,Aug_2022,Sep_2022,Oct_2022,Nov_2022,Dec_2022,Jan_2023,Feb_2023,Mar_2023], ignore_index = True)"
   ]
  },
  {
   "cell_type": "code",
   "execution_count": 5,
   "id": "325f6769",
   "metadata": {
    "scrolled": true
   },
   "outputs": [
    {
     "data": {
      "text/html": [
       "<div>\n",
       "<style scoped>\n",
       "    .dataframe tbody tr th:only-of-type {\n",
       "        vertical-align: middle;\n",
       "    }\n",
       "\n",
       "    .dataframe tbody tr th {\n",
       "        vertical-align: top;\n",
       "    }\n",
       "\n",
       "    .dataframe thead th {\n",
       "        text-align: right;\n",
       "    }\n",
       "</style>\n",
       "<table border=\"1\" class=\"dataframe\">\n",
       "  <thead>\n",
       "    <tr style=\"text-align: right;\">\n",
       "      <th></th>\n",
       "      <th>ride_id</th>\n",
       "      <th>rideable_type</th>\n",
       "      <th>started_at</th>\n",
       "      <th>ended_at</th>\n",
       "      <th>start_station_name</th>\n",
       "      <th>start_station_id</th>\n",
       "      <th>end_station_name</th>\n",
       "      <th>end_station_id</th>\n",
       "      <th>start_lat</th>\n",
       "      <th>start_lng</th>\n",
       "      <th>end_lat</th>\n",
       "      <th>end_lng</th>\n",
       "      <th>member_casual</th>\n",
       "    </tr>\n",
       "  </thead>\n",
       "  <tbody>\n",
       "    <tr>\n",
       "      <th>0</th>\n",
       "      <td>3564070EEFD12711</td>\n",
       "      <td>electric_bike</td>\n",
       "      <td>2022-04-06 17:42:48</td>\n",
       "      <td>2022-04-06 17:54:36</td>\n",
       "      <td>Paulina St &amp; Howard St</td>\n",
       "      <td>515</td>\n",
       "      <td>University Library (NU)</td>\n",
       "      <td>605</td>\n",
       "      <td>42.019135</td>\n",
       "      <td>-87.673532</td>\n",
       "      <td>42.052939</td>\n",
       "      <td>-87.673447</td>\n",
       "      <td>member</td>\n",
       "    </tr>\n",
       "    <tr>\n",
       "      <th>1</th>\n",
       "      <td>0B820C7FCF22F489</td>\n",
       "      <td>classic_bike</td>\n",
       "      <td>2022-04-24 19:23:07</td>\n",
       "      <td>2022-04-24 19:43:17</td>\n",
       "      <td>Wentworth Ave &amp; Cermak Rd</td>\n",
       "      <td>13075</td>\n",
       "      <td>Green St &amp; Madison St</td>\n",
       "      <td>TA1307000120</td>\n",
       "      <td>41.853085</td>\n",
       "      <td>-87.631931</td>\n",
       "      <td>41.881892</td>\n",
       "      <td>-87.648789</td>\n",
       "      <td>member</td>\n",
       "    </tr>\n",
       "    <tr>\n",
       "      <th>2</th>\n",
       "      <td>89EEEE32293F07FF</td>\n",
       "      <td>classic_bike</td>\n",
       "      <td>2022-04-20 19:29:08</td>\n",
       "      <td>2022-04-20 19:35:16</td>\n",
       "      <td>Halsted St &amp; Polk St</td>\n",
       "      <td>TA1307000121</td>\n",
       "      <td>Green St &amp; Madison St</td>\n",
       "      <td>TA1307000120</td>\n",
       "      <td>41.871840</td>\n",
       "      <td>-87.646640</td>\n",
       "      <td>41.881892</td>\n",
       "      <td>-87.648789</td>\n",
       "      <td>member</td>\n",
       "    </tr>\n",
       "    <tr>\n",
       "      <th>3</th>\n",
       "      <td>84D4751AEB31888D</td>\n",
       "      <td>classic_bike</td>\n",
       "      <td>2022-04-22 21:14:06</td>\n",
       "      <td>2022-04-22 21:23:29</td>\n",
       "      <td>Wentworth Ave &amp; Cermak Rd</td>\n",
       "      <td>13075</td>\n",
       "      <td>Delano Ct &amp; Roosevelt Rd</td>\n",
       "      <td>KA1706005007</td>\n",
       "      <td>41.853085</td>\n",
       "      <td>-87.631931</td>\n",
       "      <td>41.867491</td>\n",
       "      <td>-87.632190</td>\n",
       "      <td>casual</td>\n",
       "    </tr>\n",
       "    <tr>\n",
       "      <th>4</th>\n",
       "      <td>5664BCF0D1DE7A8B</td>\n",
       "      <td>electric_bike</td>\n",
       "      <td>2022-04-16 15:56:30</td>\n",
       "      <td>2022-04-16 16:02:11</td>\n",
       "      <td>Halsted St &amp; Polk St</td>\n",
       "      <td>TA1307000121</td>\n",
       "      <td>Clinton St &amp; Madison St</td>\n",
       "      <td>TA1305000032</td>\n",
       "      <td>41.871808</td>\n",
       "      <td>-87.646574</td>\n",
       "      <td>41.882242</td>\n",
       "      <td>-87.641066</td>\n",
       "      <td>member</td>\n",
       "    </tr>\n",
       "  </tbody>\n",
       "</table>\n",
       "</div>"
      ],
      "text/plain": [
       "            ride_id  rideable_type           started_at             ended_at  \\\n",
       "0  3564070EEFD12711  electric_bike  2022-04-06 17:42:48  2022-04-06 17:54:36   \n",
       "1  0B820C7FCF22F489   classic_bike  2022-04-24 19:23:07  2022-04-24 19:43:17   \n",
       "2  89EEEE32293F07FF   classic_bike  2022-04-20 19:29:08  2022-04-20 19:35:16   \n",
       "3  84D4751AEB31888D   classic_bike  2022-04-22 21:14:06  2022-04-22 21:23:29   \n",
       "4  5664BCF0D1DE7A8B  electric_bike  2022-04-16 15:56:30  2022-04-16 16:02:11   \n",
       "\n",
       "          start_station_name start_station_id          end_station_name  \\\n",
       "0     Paulina St & Howard St              515   University Library (NU)   \n",
       "1  Wentworth Ave & Cermak Rd            13075     Green St & Madison St   \n",
       "2       Halsted St & Polk St     TA1307000121     Green St & Madison St   \n",
       "3  Wentworth Ave & Cermak Rd            13075  Delano Ct & Roosevelt Rd   \n",
       "4       Halsted St & Polk St     TA1307000121   Clinton St & Madison St   \n",
       "\n",
       "  end_station_id  start_lat  start_lng    end_lat    end_lng member_casual  \n",
       "0            605  42.019135 -87.673532  42.052939 -87.673447        member  \n",
       "1   TA1307000120  41.853085 -87.631931  41.881892 -87.648789        member  \n",
       "2   TA1307000120  41.871840 -87.646640  41.881892 -87.648789        member  \n",
       "3   KA1706005007  41.853085 -87.631931  41.867491 -87.632190        casual  \n",
       "4   TA1305000032  41.871808 -87.646574  41.882242 -87.641066        member  "
      ]
     },
     "execution_count": 5,
     "metadata": {},
     "output_type": "execute_result"
    }
   ],
   "source": [
    "df.head()"
   ]
  },
  {
   "cell_type": "markdown",
   "id": "04819322",
   "metadata": {},
   "source": [
    "### Data Cleaning"
   ]
  },
  {
   "cell_type": "markdown",
   "id": "d1eafcf7",
   "metadata": {},
   "source": [
    "### Dropping columns that are not relevant for the analysis"
   ]
  },
  {
   "cell_type": "code",
   "execution_count": 6,
   "id": "e0d85bdb",
   "metadata": {
    "scrolled": true
   },
   "outputs": [],
   "source": [
    "df = df.drop(columns=['start_station_name', 'start_station_id', 'end_station_name', 'end_station_id', 'start_lat', 'start_lng', 'end_lat', 'end_lng'])"
   ]
  },
  {
   "cell_type": "code",
   "execution_count": 7,
   "id": "d723770b",
   "metadata": {
    "scrolled": true
   },
   "outputs": [
    {
     "data": {
      "text/html": [
       "<div>\n",
       "<style scoped>\n",
       "    .dataframe tbody tr th:only-of-type {\n",
       "        vertical-align: middle;\n",
       "    }\n",
       "\n",
       "    .dataframe tbody tr th {\n",
       "        vertical-align: top;\n",
       "    }\n",
       "\n",
       "    .dataframe thead th {\n",
       "        text-align: right;\n",
       "    }\n",
       "</style>\n",
       "<table border=\"1\" class=\"dataframe\">\n",
       "  <thead>\n",
       "    <tr style=\"text-align: right;\">\n",
       "      <th></th>\n",
       "      <th>ride_id</th>\n",
       "      <th>rideable_type</th>\n",
       "      <th>started_at</th>\n",
       "      <th>ended_at</th>\n",
       "      <th>member_casual</th>\n",
       "    </tr>\n",
       "  </thead>\n",
       "  <tbody>\n",
       "    <tr>\n",
       "      <th>0</th>\n",
       "      <td>3564070EEFD12711</td>\n",
       "      <td>electric_bike</td>\n",
       "      <td>2022-04-06 17:42:48</td>\n",
       "      <td>2022-04-06 17:54:36</td>\n",
       "      <td>member</td>\n",
       "    </tr>\n",
       "    <tr>\n",
       "      <th>1</th>\n",
       "      <td>0B820C7FCF22F489</td>\n",
       "      <td>classic_bike</td>\n",
       "      <td>2022-04-24 19:23:07</td>\n",
       "      <td>2022-04-24 19:43:17</td>\n",
       "      <td>member</td>\n",
       "    </tr>\n",
       "    <tr>\n",
       "      <th>2</th>\n",
       "      <td>89EEEE32293F07FF</td>\n",
       "      <td>classic_bike</td>\n",
       "      <td>2022-04-20 19:29:08</td>\n",
       "      <td>2022-04-20 19:35:16</td>\n",
       "      <td>member</td>\n",
       "    </tr>\n",
       "    <tr>\n",
       "      <th>3</th>\n",
       "      <td>84D4751AEB31888D</td>\n",
       "      <td>classic_bike</td>\n",
       "      <td>2022-04-22 21:14:06</td>\n",
       "      <td>2022-04-22 21:23:29</td>\n",
       "      <td>casual</td>\n",
       "    </tr>\n",
       "    <tr>\n",
       "      <th>4</th>\n",
       "      <td>5664BCF0D1DE7A8B</td>\n",
       "      <td>electric_bike</td>\n",
       "      <td>2022-04-16 15:56:30</td>\n",
       "      <td>2022-04-16 16:02:11</td>\n",
       "      <td>member</td>\n",
       "    </tr>\n",
       "  </tbody>\n",
       "</table>\n",
       "</div>"
      ],
      "text/plain": [
       "            ride_id  rideable_type           started_at             ended_at  \\\n",
       "0  3564070EEFD12711  electric_bike  2022-04-06 17:42:48  2022-04-06 17:54:36   \n",
       "1  0B820C7FCF22F489   classic_bike  2022-04-24 19:23:07  2022-04-24 19:43:17   \n",
       "2  89EEEE32293F07FF   classic_bike  2022-04-20 19:29:08  2022-04-20 19:35:16   \n",
       "3  84D4751AEB31888D   classic_bike  2022-04-22 21:14:06  2022-04-22 21:23:29   \n",
       "4  5664BCF0D1DE7A8B  electric_bike  2022-04-16 15:56:30  2022-04-16 16:02:11   \n",
       "\n",
       "  member_casual  \n",
       "0        member  \n",
       "1        member  \n",
       "2        member  \n",
       "3        casual  \n",
       "4        member  "
      ]
     },
     "execution_count": 7,
     "metadata": {},
     "output_type": "execute_result"
    }
   ],
   "source": [
    "df.head()"
   ]
  },
  {
   "cell_type": "code",
   "execution_count": 8,
   "id": "4781df88",
   "metadata": {
    "scrolled": true
   },
   "outputs": [
    {
     "data": {
      "text/plain": [
       "ride_id          object\n",
       "rideable_type    object\n",
       "started_at       object\n",
       "ended_at         object\n",
       "member_casual    object\n",
       "dtype: object"
      ]
     },
     "execution_count": 8,
     "metadata": {},
     "output_type": "execute_result"
    }
   ],
   "source": [
    "df.dtypes"
   ]
  },
  {
   "cell_type": "markdown",
   "id": "14a3f93d",
   "metadata": {},
   "source": [
    "### Coverting datatype of \"started_at\" & \"ended_at\" columns to \"datetime64\" type."
   ]
  },
  {
   "cell_type": "code",
   "execution_count": 9,
   "id": "3a913db2",
   "metadata": {
    "scrolled": true
   },
   "outputs": [],
   "source": [
    "df['started_at'] = df['started_at'].astype('datetime64')\n",
    "df['ended_at'] = df['ended_at'].astype('datetime64')"
   ]
  },
  {
   "cell_type": "markdown",
   "id": "b4fba176",
   "metadata": {},
   "source": [
    "### Creating new column \"ride_length\" and changing its datatype to \"int32\""
   ]
  },
  {
   "cell_type": "code",
   "execution_count": 10,
   "id": "bbc04ea9",
   "metadata": {
    "scrolled": true
   },
   "outputs": [],
   "source": [
    "df['ride_length'] = df.ended_at.sub(df.started_at)/pd.Timedelta(minutes=1)\n",
    "df['ride_length'] = df['ride_length'].astype('int32')"
   ]
  },
  {
   "cell_type": "code",
   "execution_count": 11,
   "id": "fb18378b",
   "metadata": {
    "scrolled": true
   },
   "outputs": [
    {
     "data": {
      "text/html": [
       "<div>\n",
       "<style scoped>\n",
       "    .dataframe tbody tr th:only-of-type {\n",
       "        vertical-align: middle;\n",
       "    }\n",
       "\n",
       "    .dataframe tbody tr th {\n",
       "        vertical-align: top;\n",
       "    }\n",
       "\n",
       "    .dataframe thead th {\n",
       "        text-align: right;\n",
       "    }\n",
       "</style>\n",
       "<table border=\"1\" class=\"dataframe\">\n",
       "  <thead>\n",
       "    <tr style=\"text-align: right;\">\n",
       "      <th></th>\n",
       "      <th>ride_id</th>\n",
       "      <th>rideable_type</th>\n",
       "      <th>started_at</th>\n",
       "      <th>ended_at</th>\n",
       "      <th>member_casual</th>\n",
       "      <th>ride_length</th>\n",
       "    </tr>\n",
       "  </thead>\n",
       "  <tbody>\n",
       "    <tr>\n",
       "      <th>0</th>\n",
       "      <td>3564070EEFD12711</td>\n",
       "      <td>electric_bike</td>\n",
       "      <td>2022-04-06 17:42:48</td>\n",
       "      <td>2022-04-06 17:54:36</td>\n",
       "      <td>member</td>\n",
       "      <td>11</td>\n",
       "    </tr>\n",
       "    <tr>\n",
       "      <th>1</th>\n",
       "      <td>0B820C7FCF22F489</td>\n",
       "      <td>classic_bike</td>\n",
       "      <td>2022-04-24 19:23:07</td>\n",
       "      <td>2022-04-24 19:43:17</td>\n",
       "      <td>member</td>\n",
       "      <td>20</td>\n",
       "    </tr>\n",
       "    <tr>\n",
       "      <th>2</th>\n",
       "      <td>89EEEE32293F07FF</td>\n",
       "      <td>classic_bike</td>\n",
       "      <td>2022-04-20 19:29:08</td>\n",
       "      <td>2022-04-20 19:35:16</td>\n",
       "      <td>member</td>\n",
       "      <td>6</td>\n",
       "    </tr>\n",
       "    <tr>\n",
       "      <th>3</th>\n",
       "      <td>84D4751AEB31888D</td>\n",
       "      <td>classic_bike</td>\n",
       "      <td>2022-04-22 21:14:06</td>\n",
       "      <td>2022-04-22 21:23:29</td>\n",
       "      <td>casual</td>\n",
       "      <td>9</td>\n",
       "    </tr>\n",
       "    <tr>\n",
       "      <th>4</th>\n",
       "      <td>5664BCF0D1DE7A8B</td>\n",
       "      <td>electric_bike</td>\n",
       "      <td>2022-04-16 15:56:30</td>\n",
       "      <td>2022-04-16 16:02:11</td>\n",
       "      <td>member</td>\n",
       "      <td>5</td>\n",
       "    </tr>\n",
       "  </tbody>\n",
       "</table>\n",
       "</div>"
      ],
      "text/plain": [
       "            ride_id  rideable_type          started_at            ended_at  \\\n",
       "0  3564070EEFD12711  electric_bike 2022-04-06 17:42:48 2022-04-06 17:54:36   \n",
       "1  0B820C7FCF22F489   classic_bike 2022-04-24 19:23:07 2022-04-24 19:43:17   \n",
       "2  89EEEE32293F07FF   classic_bike 2022-04-20 19:29:08 2022-04-20 19:35:16   \n",
       "3  84D4751AEB31888D   classic_bike 2022-04-22 21:14:06 2022-04-22 21:23:29   \n",
       "4  5664BCF0D1DE7A8B  electric_bike 2022-04-16 15:56:30 2022-04-16 16:02:11   \n",
       "\n",
       "  member_casual  ride_length  \n",
       "0        member           11  \n",
       "1        member           20  \n",
       "2        member            6  \n",
       "3        casual            9  \n",
       "4        member            5  "
      ]
     },
     "execution_count": 11,
     "metadata": {},
     "output_type": "execute_result"
    }
   ],
   "source": [
    "df.head()"
   ]
  },
  {
   "cell_type": "code",
   "execution_count": 12,
   "id": "38e7ffbc",
   "metadata": {
    "scrolled": true
   },
   "outputs": [
    {
     "data": {
      "text/html": [
       "<div>\n",
       "<style scoped>\n",
       "    .dataframe tbody tr th:only-of-type {\n",
       "        vertical-align: middle;\n",
       "    }\n",
       "\n",
       "    .dataframe tbody tr th {\n",
       "        vertical-align: top;\n",
       "    }\n",
       "\n",
       "    .dataframe thead th {\n",
       "        text-align: right;\n",
       "    }\n",
       "</style>\n",
       "<table border=\"1\" class=\"dataframe\">\n",
       "  <thead>\n",
       "    <tr style=\"text-align: right;\">\n",
       "      <th></th>\n",
       "      <th>ride_id</th>\n",
       "      <th>rideable_type</th>\n",
       "      <th>started_at</th>\n",
       "      <th>ended_at</th>\n",
       "      <th>member_casual</th>\n",
       "      <th>ride_length</th>\n",
       "    </tr>\n",
       "  </thead>\n",
       "  <tbody>\n",
       "    <tr>\n",
       "      <th>3802526</th>\n",
       "      <td>E137518FFE807752</td>\n",
       "      <td>electric_bike</td>\n",
       "      <td>2022-09-28 11:04:32</td>\n",
       "      <td>2022-09-21 06:31:11</td>\n",
       "      <td>member</td>\n",
       "      <td>-10353</td>\n",
       "    </tr>\n",
       "    <tr>\n",
       "      <th>4240321</th>\n",
       "      <td>918F745F62CAC29E</td>\n",
       "      <td>classic_bike</td>\n",
       "      <td>2022-10-13 14:42:10</td>\n",
       "      <td>2022-10-13 11:53:28</td>\n",
       "      <td>member</td>\n",
       "      <td>-168</td>\n",
       "    </tr>\n",
       "    <tr>\n",
       "      <th>1591779</th>\n",
       "      <td>38B9F148CE80499B</td>\n",
       "      <td>electric_bike</td>\n",
       "      <td>2022-06-07 19:23:03</td>\n",
       "      <td>2022-06-07 17:05:38</td>\n",
       "      <td>casual</td>\n",
       "      <td>-137</td>\n",
       "    </tr>\n",
       "    <tr>\n",
       "      <th>1132216</th>\n",
       "      <td>B897BE02B21FA75E</td>\n",
       "      <td>electric_bike</td>\n",
       "      <td>2022-06-07 19:15:39</td>\n",
       "      <td>2022-06-07 17:05:37</td>\n",
       "      <td>casual</td>\n",
       "      <td>-130</td>\n",
       "    </tr>\n",
       "    <tr>\n",
       "      <th>1307384</th>\n",
       "      <td>BF114472ABA0289C</td>\n",
       "      <td>electric_bike</td>\n",
       "      <td>2022-06-07 19:14:47</td>\n",
       "      <td>2022-06-07 17:05:42</td>\n",
       "      <td>member</td>\n",
       "      <td>-129</td>\n",
       "    </tr>\n",
       "    <tr>\n",
       "      <th>...</th>\n",
       "      <td>...</td>\n",
       "      <td>...</td>\n",
       "      <td>...</td>\n",
       "      <td>...</td>\n",
       "      <td>...</td>\n",
       "      <td>...</td>\n",
       "    </tr>\n",
       "    <tr>\n",
       "      <th>2402116</th>\n",
       "      <td>70835A30C542BA2E</td>\n",
       "      <td>docked_bike</td>\n",
       "      <td>2022-07-09 01:02:46</td>\n",
       "      <td>2022-08-01 19:11:35</td>\n",
       "      <td>casual</td>\n",
       "      <td>34208</td>\n",
       "    </tr>\n",
       "    <tr>\n",
       "      <th>2401938</th>\n",
       "      <td>3BFD0599F253B024</td>\n",
       "      <td>docked_bike</td>\n",
       "      <td>2022-07-09 01:03:19</td>\n",
       "      <td>2022-08-01 19:11:26</td>\n",
       "      <td>casual</td>\n",
       "      <td>34208</td>\n",
       "    </tr>\n",
       "    <tr>\n",
       "      <th>1616175</th>\n",
       "      <td>94DD1FB2367EA8B6</td>\n",
       "      <td>docked_bike</td>\n",
       "      <td>2022-06-15 07:56:59</td>\n",
       "      <td>2022-07-10 04:57:37</td>\n",
       "      <td>casual</td>\n",
       "      <td>35820</td>\n",
       "    </tr>\n",
       "    <tr>\n",
       "      <th>961276</th>\n",
       "      <td>DCFE0DB8022DFABC</td>\n",
       "      <td>docked_bike</td>\n",
       "      <td>2022-05-08 00:28:53</td>\n",
       "      <td>2022-06-02 04:46:41</td>\n",
       "      <td>casual</td>\n",
       "      <td>36257</td>\n",
       "    </tr>\n",
       "    <tr>\n",
       "      <th>4491072</th>\n",
       "      <td>7D4CB0DD5137CA9A</td>\n",
       "      <td>docked_bike</td>\n",
       "      <td>2022-10-01 15:04:38</td>\n",
       "      <td>2022-10-30 08:51:53</td>\n",
       "      <td>casual</td>\n",
       "      <td>41387</td>\n",
       "    </tr>\n",
       "  </tbody>\n",
       "</table>\n",
       "<p>5803720 rows × 6 columns</p>\n",
       "</div>"
      ],
      "text/plain": [
       "                  ride_id  rideable_type          started_at  \\\n",
       "3802526  E137518FFE807752  electric_bike 2022-09-28 11:04:32   \n",
       "4240321  918F745F62CAC29E   classic_bike 2022-10-13 14:42:10   \n",
       "1591779  38B9F148CE80499B  electric_bike 2022-06-07 19:23:03   \n",
       "1132216  B897BE02B21FA75E  electric_bike 2022-06-07 19:15:39   \n",
       "1307384  BF114472ABA0289C  electric_bike 2022-06-07 19:14:47   \n",
       "...                   ...            ...                 ...   \n",
       "2402116  70835A30C542BA2E    docked_bike 2022-07-09 01:02:46   \n",
       "2401938  3BFD0599F253B024    docked_bike 2022-07-09 01:03:19   \n",
       "1616175  94DD1FB2367EA8B6    docked_bike 2022-06-15 07:56:59   \n",
       "961276   DCFE0DB8022DFABC    docked_bike 2022-05-08 00:28:53   \n",
       "4491072  7D4CB0DD5137CA9A    docked_bike 2022-10-01 15:04:38   \n",
       "\n",
       "                   ended_at member_casual  ride_length  \n",
       "3802526 2022-09-21 06:31:11        member       -10353  \n",
       "4240321 2022-10-13 11:53:28        member         -168  \n",
       "1591779 2022-06-07 17:05:38        casual         -137  \n",
       "1132216 2022-06-07 17:05:37        casual         -130  \n",
       "1307384 2022-06-07 17:05:42        member         -129  \n",
       "...                     ...           ...          ...  \n",
       "2402116 2022-08-01 19:11:35        casual        34208  \n",
       "2401938 2022-08-01 19:11:26        casual        34208  \n",
       "1616175 2022-07-10 04:57:37        casual        35820  \n",
       "961276  2022-06-02 04:46:41        casual        36257  \n",
       "4491072 2022-10-30 08:51:53        casual        41387  \n",
       "\n",
       "[5803720 rows x 6 columns]"
      ]
     },
     "execution_count": 12,
     "metadata": {},
     "output_type": "execute_result"
    }
   ],
   "source": [
    "df.sort_values(by=['ride_length'],ascending=True)"
   ]
  },
  {
   "cell_type": "markdown",
   "id": "8347647c",
   "metadata": {},
   "source": [
    "We can see that in some of the cases the ride_length is negative. It can happen when the ending time entered is earlier that the starting time entered. \n",
    "This can't be true in real life so we are going to take only values that are greater than 0.\n"
   ]
  },
  {
   "cell_type": "code",
   "execution_count": 13,
   "id": "af2ffccf",
   "metadata": {
    "scrolled": true
   },
   "outputs": [
    {
     "data": {
      "text/plain": [
       "ride_id          74\n",
       "rideable_type    74\n",
       "started_at       74\n",
       "ended_at         74\n",
       "member_casual    74\n",
       "ride_length      74\n",
       "dtype: int64"
      ]
     },
     "execution_count": 13,
     "metadata": {},
     "output_type": "execute_result"
    }
   ],
   "source": [
    "df[df['ride_length']<0].count()"
   ]
  },
  {
   "cell_type": "markdown",
   "id": "bc0676f1",
   "metadata": {},
   "source": [
    "I will drop all negative values as this data is wrong"
   ]
  },
  {
   "cell_type": "code",
   "execution_count": 14,
   "id": "611146b1",
   "metadata": {
    "scrolled": true
   },
   "outputs": [],
   "source": [
    "df.drop(df[df.ride_length < 0].index, inplace=True)"
   ]
  },
  {
   "cell_type": "code",
   "execution_count": 15,
   "id": "c04aa2d4",
   "metadata": {
    "scrolled": true
   },
   "outputs": [
    {
     "data": {
      "text/html": [
       "<div>\n",
       "<style scoped>\n",
       "    .dataframe tbody tr th:only-of-type {\n",
       "        vertical-align: middle;\n",
       "    }\n",
       "\n",
       "    .dataframe tbody tr th {\n",
       "        vertical-align: top;\n",
       "    }\n",
       "\n",
       "    .dataframe thead th {\n",
       "        text-align: right;\n",
       "    }\n",
       "</style>\n",
       "<table border=\"1\" class=\"dataframe\">\n",
       "  <thead>\n",
       "    <tr style=\"text-align: right;\">\n",
       "      <th></th>\n",
       "      <th>ride_id</th>\n",
       "      <th>rideable_type</th>\n",
       "      <th>started_at</th>\n",
       "      <th>ended_at</th>\n",
       "      <th>member_casual</th>\n",
       "      <th>ride_length</th>\n",
       "    </tr>\n",
       "  </thead>\n",
       "  <tbody>\n",
       "    <tr>\n",
       "      <th>0</th>\n",
       "      <td>3564070EEFD12711</td>\n",
       "      <td>electric_bike</td>\n",
       "      <td>2022-04-06 17:42:48</td>\n",
       "      <td>2022-04-06 17:54:36</td>\n",
       "      <td>member</td>\n",
       "      <td>11</td>\n",
       "    </tr>\n",
       "    <tr>\n",
       "      <th>1</th>\n",
       "      <td>0B820C7FCF22F489</td>\n",
       "      <td>classic_bike</td>\n",
       "      <td>2022-04-24 19:23:07</td>\n",
       "      <td>2022-04-24 19:43:17</td>\n",
       "      <td>member</td>\n",
       "      <td>20</td>\n",
       "    </tr>\n",
       "    <tr>\n",
       "      <th>2</th>\n",
       "      <td>89EEEE32293F07FF</td>\n",
       "      <td>classic_bike</td>\n",
       "      <td>2022-04-20 19:29:08</td>\n",
       "      <td>2022-04-20 19:35:16</td>\n",
       "      <td>member</td>\n",
       "      <td>6</td>\n",
       "    </tr>\n",
       "    <tr>\n",
       "      <th>3</th>\n",
       "      <td>84D4751AEB31888D</td>\n",
       "      <td>classic_bike</td>\n",
       "      <td>2022-04-22 21:14:06</td>\n",
       "      <td>2022-04-22 21:23:29</td>\n",
       "      <td>casual</td>\n",
       "      <td>9</td>\n",
       "    </tr>\n",
       "    <tr>\n",
       "      <th>4</th>\n",
       "      <td>5664BCF0D1DE7A8B</td>\n",
       "      <td>electric_bike</td>\n",
       "      <td>2022-04-16 15:56:30</td>\n",
       "      <td>2022-04-16 16:02:11</td>\n",
       "      <td>member</td>\n",
       "      <td>5</td>\n",
       "    </tr>\n",
       "  </tbody>\n",
       "</table>\n",
       "</div>"
      ],
      "text/plain": [
       "            ride_id  rideable_type          started_at            ended_at  \\\n",
       "0  3564070EEFD12711  electric_bike 2022-04-06 17:42:48 2022-04-06 17:54:36   \n",
       "1  0B820C7FCF22F489   classic_bike 2022-04-24 19:23:07 2022-04-24 19:43:17   \n",
       "2  89EEEE32293F07FF   classic_bike 2022-04-20 19:29:08 2022-04-20 19:35:16   \n",
       "3  84D4751AEB31888D   classic_bike 2022-04-22 21:14:06 2022-04-22 21:23:29   \n",
       "4  5664BCF0D1DE7A8B  electric_bike 2022-04-16 15:56:30 2022-04-16 16:02:11   \n",
       "\n",
       "  member_casual  ride_length  \n",
       "0        member           11  \n",
       "1        member           20  \n",
       "2        member            6  \n",
       "3        casual            9  \n",
       "4        member            5  "
      ]
     },
     "execution_count": 15,
     "metadata": {},
     "output_type": "execute_result"
    }
   ],
   "source": [
    "df.head()"
   ]
  },
  {
   "cell_type": "markdown",
   "id": "2abd9e9d",
   "metadata": {},
   "source": [
    "### Change datatypes of the remaining columns"
   ]
  },
  {
   "cell_type": "code",
   "execution_count": 16,
   "id": "471cc6bc",
   "metadata": {
    "scrolled": true
   },
   "outputs": [],
   "source": [
    "df = df.astype({'ride_id':'string', 'rideable_type':'category', 'member_casual':'category'})"
   ]
  },
  {
   "cell_type": "code",
   "execution_count": 17,
   "id": "ae59cc0c",
   "metadata": {
    "scrolled": true
   },
   "outputs": [
    {
     "data": {
      "text/plain": [
       "ride_id                  string\n",
       "rideable_type          category\n",
       "started_at       datetime64[ns]\n",
       "ended_at         datetime64[ns]\n",
       "member_casual          category\n",
       "ride_length               int32\n",
       "dtype: object"
      ]
     },
     "execution_count": 17,
     "metadata": {},
     "output_type": "execute_result"
    }
   ],
   "source": [
    "df.dtypes"
   ]
  },
  {
   "cell_type": "code",
   "execution_count": 18,
   "id": "527d1178",
   "metadata": {
    "scrolled": true
   },
   "outputs": [
    {
     "data": {
      "text/plain": [
       "ride_id          0\n",
       "rideable_type    0\n",
       "started_at       0\n",
       "ended_at         0\n",
       "member_casual    0\n",
       "ride_length      0\n",
       "dtype: int64"
      ]
     },
     "execution_count": 18,
     "metadata": {},
     "output_type": "execute_result"
    }
   ],
   "source": [
    "df.isnull().sum() #checking for null values"
   ]
  },
  {
   "cell_type": "code",
   "execution_count": 19,
   "id": "9dca3192",
   "metadata": {
    "scrolled": true
   },
   "outputs": [],
   "source": [
    "df['ride_id'] = df['ride_id'].str.strip() #removing white spaces if any"
   ]
  },
  {
   "cell_type": "code",
   "execution_count": 20,
   "id": "fc1f2b8b",
   "metadata": {
    "scrolled": true
   },
   "outputs": [
    {
     "data": {
      "text/html": [
       "<div>\n",
       "<style scoped>\n",
       "    .dataframe tbody tr th:only-of-type {\n",
       "        vertical-align: middle;\n",
       "    }\n",
       "\n",
       "    .dataframe tbody tr th {\n",
       "        vertical-align: top;\n",
       "    }\n",
       "\n",
       "    .dataframe thead th {\n",
       "        text-align: right;\n",
       "    }\n",
       "</style>\n",
       "<table border=\"1\" class=\"dataframe\">\n",
       "  <thead>\n",
       "    <tr style=\"text-align: right;\">\n",
       "      <th></th>\n",
       "      <th>ride_id</th>\n",
       "      <th>rideable_type</th>\n",
       "      <th>started_at</th>\n",
       "      <th>ended_at</th>\n",
       "      <th>member_casual</th>\n",
       "      <th>ride_length</th>\n",
       "    </tr>\n",
       "  </thead>\n",
       "  <tbody>\n",
       "  </tbody>\n",
       "</table>\n",
       "</div>"
      ],
      "text/plain": [
       "Empty DataFrame\n",
       "Columns: [ride_id, rideable_type, started_at, ended_at, member_casual, ride_length]\n",
       "Index: []"
      ]
     },
     "execution_count": 20,
     "metadata": {},
     "output_type": "execute_result"
    }
   ],
   "source": [
    "df[df['ride_id'].duplicated()] #Checking for duplicate values"
   ]
  },
  {
   "cell_type": "markdown",
   "id": "267ee5ff",
   "metadata": {},
   "source": [
    "### Analyse and share"
   ]
  },
  {
   "cell_type": "markdown",
   "id": "6b1b8fb8",
   "metadata": {},
   "source": [
    "### Adding more columns for better analysis"
   ]
  },
  {
   "cell_type": "code",
   "execution_count": 21,
   "id": "8c1c904b",
   "metadata": {
    "scrolled": true
   },
   "outputs": [],
   "source": [
    "df['Year'] = df['started_at'].dt.year\n",
    "\n",
    "month_names = ['January', 'February', 'March', 'April', 'May', 'June', 'July', 'August', 'September', 'October', 'November', 'December']\n",
    "df['Month'] = df['started_at'].dt.month_name()\n",
    "df['Month'] = df['Month'].astype(CategoricalDtype(categories=month_names, ordered=False))\n",
    "\n",
    "weekday_names = ['Sunday', 'Monday', 'Tuesday', 'Wednesday', 'Thursday', 'Friday', 'Saturday']\n",
    "df['Day_of_Week'] = df['started_at'].dt.day_name()\n",
    "df['Day_of_Week'] = df['Day_of_Week'].astype(CategoricalDtype(categories=weekday_names, ordered=False))\n",
    "\n",
    "df['hour'] = df['started_at'].dt.hour\n"
   ]
  },
  {
   "cell_type": "code",
   "execution_count": 22,
   "id": "8e1380ff",
   "metadata": {
    "scrolled": true
   },
   "outputs": [
    {
     "data": {
      "text/html": [
       "<div>\n",
       "<style scoped>\n",
       "    .dataframe tbody tr th:only-of-type {\n",
       "        vertical-align: middle;\n",
       "    }\n",
       "\n",
       "    .dataframe tbody tr th {\n",
       "        vertical-align: top;\n",
       "    }\n",
       "\n",
       "    .dataframe thead th {\n",
       "        text-align: right;\n",
       "    }\n",
       "</style>\n",
       "<table border=\"1\" class=\"dataframe\">\n",
       "  <thead>\n",
       "    <tr style=\"text-align: right;\">\n",
       "      <th></th>\n",
       "      <th>ride_id</th>\n",
       "      <th>rideable_type</th>\n",
       "      <th>started_at</th>\n",
       "      <th>ended_at</th>\n",
       "      <th>member_casual</th>\n",
       "      <th>ride_length</th>\n",
       "      <th>Year</th>\n",
       "      <th>Month</th>\n",
       "      <th>Day_of_Week</th>\n",
       "      <th>hour</th>\n",
       "    </tr>\n",
       "  </thead>\n",
       "  <tbody>\n",
       "    <tr>\n",
       "      <th>0</th>\n",
       "      <td>3564070EEFD12711</td>\n",
       "      <td>electric_bike</td>\n",
       "      <td>2022-04-06 17:42:48</td>\n",
       "      <td>2022-04-06 17:54:36</td>\n",
       "      <td>member</td>\n",
       "      <td>11</td>\n",
       "      <td>2022</td>\n",
       "      <td>April</td>\n",
       "      <td>Wednesday</td>\n",
       "      <td>17</td>\n",
       "    </tr>\n",
       "    <tr>\n",
       "      <th>1</th>\n",
       "      <td>0B820C7FCF22F489</td>\n",
       "      <td>classic_bike</td>\n",
       "      <td>2022-04-24 19:23:07</td>\n",
       "      <td>2022-04-24 19:43:17</td>\n",
       "      <td>member</td>\n",
       "      <td>20</td>\n",
       "      <td>2022</td>\n",
       "      <td>April</td>\n",
       "      <td>Sunday</td>\n",
       "      <td>19</td>\n",
       "    </tr>\n",
       "    <tr>\n",
       "      <th>2</th>\n",
       "      <td>89EEEE32293F07FF</td>\n",
       "      <td>classic_bike</td>\n",
       "      <td>2022-04-20 19:29:08</td>\n",
       "      <td>2022-04-20 19:35:16</td>\n",
       "      <td>member</td>\n",
       "      <td>6</td>\n",
       "      <td>2022</td>\n",
       "      <td>April</td>\n",
       "      <td>Wednesday</td>\n",
       "      <td>19</td>\n",
       "    </tr>\n",
       "    <tr>\n",
       "      <th>3</th>\n",
       "      <td>84D4751AEB31888D</td>\n",
       "      <td>classic_bike</td>\n",
       "      <td>2022-04-22 21:14:06</td>\n",
       "      <td>2022-04-22 21:23:29</td>\n",
       "      <td>casual</td>\n",
       "      <td>9</td>\n",
       "      <td>2022</td>\n",
       "      <td>April</td>\n",
       "      <td>Friday</td>\n",
       "      <td>21</td>\n",
       "    </tr>\n",
       "    <tr>\n",
       "      <th>4</th>\n",
       "      <td>5664BCF0D1DE7A8B</td>\n",
       "      <td>electric_bike</td>\n",
       "      <td>2022-04-16 15:56:30</td>\n",
       "      <td>2022-04-16 16:02:11</td>\n",
       "      <td>member</td>\n",
       "      <td>5</td>\n",
       "      <td>2022</td>\n",
       "      <td>April</td>\n",
       "      <td>Saturday</td>\n",
       "      <td>15</td>\n",
       "    </tr>\n",
       "  </tbody>\n",
       "</table>\n",
       "</div>"
      ],
      "text/plain": [
       "            ride_id  rideable_type          started_at            ended_at  \\\n",
       "0  3564070EEFD12711  electric_bike 2022-04-06 17:42:48 2022-04-06 17:54:36   \n",
       "1  0B820C7FCF22F489   classic_bike 2022-04-24 19:23:07 2022-04-24 19:43:17   \n",
       "2  89EEEE32293F07FF   classic_bike 2022-04-20 19:29:08 2022-04-20 19:35:16   \n",
       "3  84D4751AEB31888D   classic_bike 2022-04-22 21:14:06 2022-04-22 21:23:29   \n",
       "4  5664BCF0D1DE7A8B  electric_bike 2022-04-16 15:56:30 2022-04-16 16:02:11   \n",
       "\n",
       "  member_casual  ride_length  Year  Month Day_of_Week  hour  \n",
       "0        member           11  2022  April   Wednesday    17  \n",
       "1        member           20  2022  April      Sunday    19  \n",
       "2        member            6  2022  April   Wednesday    19  \n",
       "3        casual            9  2022  April      Friday    21  \n",
       "4        member            5  2022  April    Saturday    15  "
      ]
     },
     "execution_count": 22,
     "metadata": {},
     "output_type": "execute_result"
    }
   ],
   "source": [
    "df.head()"
   ]
  },
  {
   "cell_type": "code",
   "execution_count": 23,
   "id": "a04ad081",
   "metadata": {
    "scrolled": true
   },
   "outputs": [],
   "source": [
    "df = df.astype({'Month':'category', 'Day_of_Week':'category'})"
   ]
  },
  {
   "cell_type": "code",
   "execution_count": 24,
   "id": "f5db7de0",
   "metadata": {
    "scrolled": true
   },
   "outputs": [
    {
     "data": {
      "text/plain": [
       "ride_id                  string\n",
       "rideable_type          category\n",
       "started_at       datetime64[ns]\n",
       "ended_at         datetime64[ns]\n",
       "member_casual          category\n",
       "ride_length               int32\n",
       "Year                      int64\n",
       "Month                  category\n",
       "Day_of_Week            category\n",
       "hour                      int64\n",
       "dtype: object"
      ]
     },
     "execution_count": 24,
     "metadata": {},
     "output_type": "execute_result"
    }
   ],
   "source": [
    "df.dtypes"
   ]
  },
  {
   "cell_type": "code",
   "execution_count": 25,
   "id": "a6fe3a8e",
   "metadata": {
    "scrolled": true
   },
   "outputs": [],
   "source": [
    "### Total count of each customer type"
   ]
  },
  {
   "cell_type": "code",
   "execution_count": 26,
   "id": "d2df6fb0",
   "metadata": {
    "scrolled": true
   },
   "outputs": [
    {
     "data": {
      "text/html": [
       "<div>\n",
       "<style scoped>\n",
       "    .dataframe tbody tr th:only-of-type {\n",
       "        vertical-align: middle;\n",
       "    }\n",
       "\n",
       "    .dataframe tbody tr th {\n",
       "        vertical-align: top;\n",
       "    }\n",
       "\n",
       "    .dataframe thead tr th {\n",
       "        text-align: left;\n",
       "    }\n",
       "\n",
       "    .dataframe thead tr:last-of-type th {\n",
       "        text-align: right;\n",
       "    }\n",
       "</style>\n",
       "<table border=\"1\" class=\"dataframe\">\n",
       "  <thead>\n",
       "    <tr>\n",
       "      <th></th>\n",
       "      <th>count</th>\n",
       "    </tr>\n",
       "    <tr>\n",
       "      <th></th>\n",
       "      <th>ride_id</th>\n",
       "    </tr>\n",
       "    <tr>\n",
       "      <th>member_casual</th>\n",
       "      <th></th>\n",
       "    </tr>\n",
       "  </thead>\n",
       "  <tbody>\n",
       "    <tr>\n",
       "      <th>casual</th>\n",
       "      <td>2337399</td>\n",
       "    </tr>\n",
       "    <tr>\n",
       "      <th>member</th>\n",
       "      <td>3466247</td>\n",
       "    </tr>\n",
       "    <tr>\n",
       "      <th>Total Count</th>\n",
       "      <td>5803646</td>\n",
       "    </tr>\n",
       "  </tbody>\n",
       "</table>\n",
       "</div>"
      ],
      "text/plain": [
       "                 count\n",
       "               ride_id\n",
       "member_casual         \n",
       "casual         2337399\n",
       "member         3466247\n",
       "Total Count    5803646"
      ]
     },
     "execution_count": 26,
     "metadata": {},
     "output_type": "execute_result"
    }
   ],
   "source": [
    "pd.pivot_table(data=df,values='ride_id',index='member_casual',aggfunc=['count'],margins=True,margins_name='Total Count')"
   ]
  },
  {
   "cell_type": "code",
   "execution_count": 27,
   "id": "ae7e8c33",
   "metadata": {
    "scrolled": true
   },
   "outputs": [
    {
     "data": {
      "text/plain": [
       "<matplotlib.legend.Legend at 0x2a181d682e0>"
      ]
     },
     "execution_count": 27,
     "metadata": {},
     "output_type": "execute_result"
    },
    {
     "data": {
      "image/png": "[encoded data removed]",
      "text/plain": [
       "<Figure size 1152x576 with 1 Axes>"
      ]
     },
     "metadata": {
      "needs_background": "light"
     },
     "output_type": "display_data"
    }
   ],
   "source": [
    "plt.figure(figsize=(16,8))\n",
    "sns.countplot(x='Month',hue='member_casual',data=df,palette='coolwarm')\n",
    "plt.title(\"Total number of bike rides by month and user type\")\n",
    "plt.xlabel(\"Month\")\n",
    "plt.ylabel(\"Number of rides\")\n",
    "plt.legend(['Casual','Member'])"
   ]
  },
  {
   "cell_type": "code",
   "execution_count": 28,
   "id": "89e07810",
   "metadata": {
    "scrolled": true
   },
   "outputs": [
    {
     "data": {
      "text/plain": [
       "<matplotlib.legend.Legend at 0x2a10d399b50>"
      ]
     },
     "execution_count": 28,
     "metadata": {},
     "output_type": "execute_result"
    },
    {
     "data": {
      "image/png": "[encoded data removed]",
      "text/plain": [
       "<Figure size 1152x576 with 1 Axes>"
      ]
     },
     "metadata": {
      "needs_background": "light"
     },
     "output_type": "display_data"
    }
   ],
   "source": [
    "plt.figure(figsize=(16,8))\n",
    "sns.countplot(x='Day_of_Week',hue='member_casual',data=df,palette='coolwarm')\n",
    "plt.title(\"Total number of bike rides by weekday and user type\")\n",
    "plt.xlabel(\"Day of week\")\n",
    "plt.ylabel(\"Number of rides\")\n",
    "plt.legend(['Casual','Member'])"
   ]
  },
  {
   "cell_type": "code",
   "execution_count": 29,
   "id": "3fa24052",
   "metadata": {
    "scrolled": true
   },
   "outputs": [
    {
     "data": {
      "text/plain": [
       "<matplotlib.legend.Legend at 0x2a188c77130>"
      ]
     },
     "execution_count": 29,
     "metadata": {},
     "output_type": "execute_result"
    },
    {
     "data": {
      "image/png": "[encoded data removed]",
      "text/plain": [
       "<Figure size 1152x576 with 1 Axes>"
      ]
     },
     "metadata": {
      "needs_background": "light"
     },
     "output_type": "display_data"
    }
   ],
   "source": [
    "plt.figure(figsize=(16,8))\n",
    "sns.countplot(x='hour',hue='member_casual',data=df,palette='coolwarm')\n",
    "plt.title(\"Total number of bike rides by hour and user type\")\n",
    "plt.xlabel(\"Hour\")\n",
    "plt.ylabel(\"Number of rides\")\n",
    "plt.legend(['Casual','Member'])"
   ]
  },
  {
   "cell_type": "code",
   "execution_count": 30,
   "id": "4761fc06",
   "metadata": {
    "scrolled": true
   },
   "outputs": [],
   "source": [
    "df1 = round(df.groupby(['Month', 'member_casual'], as_index=False).mean(),2)"
   ]
  },
  {
   "cell_type": "code",
   "execution_count": 31,
   "id": "c434cb02",
   "metadata": {
    "scrolled": true
   },
   "outputs": [
    {
     "data": {
      "image/png": "[encoded data removed]",
      "text/plain": [
       "<Figure size 1152x576 with 1 Axes>"
      ]
     },
     "metadata": {
      "needs_background": "light"
     },
     "output_type": "display_data"
    }
   ],
   "source": [
    "plt.figure(figsize=(16,8))\n",
    "sns.barplot(data=df1,x='Month',y='ride_length',hue='member_casual',palette='coolwarm')\n",
    "plt.xlabel('Month')\n",
    "plt.ylabel('Average Ride Length (minutes)')\n",
    "plt.title('Average bike ride by month and user type');"
   ]
  },
  {
   "cell_type": "code",
   "execution_count": 32,
   "id": "d36b2a9a",
   "metadata": {
    "scrolled": true
   },
   "outputs": [
    {
     "data": {
      "text/plain": [
       "Text(0.5, 1.0, 'Average bike ride by weekday and user type')"
      ]
     },
     "execution_count": 32,
     "metadata": {},
     "output_type": "execute_result"
    },
    {
     "data": {
      "image/png": "[encoded data removed]",
      "text/plain": [
       "<Figure size 1152x576 with 1 Axes>"
      ]
     },
     "metadata": {
      "needs_background": "light"
     },
     "output_type": "display_data"
    }
   ],
   "source": [
    "df2 = round(df.groupby(['Day_of_Week', 'member_casual'], as_index=False).mean(),2)\n",
    "plt.figure(figsize=(16,8))\n",
    "sns.barplot(data=df2,x='Day_of_Week',y='ride_length',hue='member_casual',palette='coolwarm')\n",
    "plt.xlabel('Day_of_Week')\n",
    "plt.ylabel('Average Ride Length (minutes)')\n",
    "plt.title('Average bike ride by weekday and user type')"
   ]
  },
  {
   "cell_type": "code",
   "execution_count": 33,
   "id": "d63809b2",
   "metadata": {
    "scrolled": true
   },
   "outputs": [
    {
     "data": {
      "text/plain": [
       "Text(0.5, 1.0, 'Average bike ride by hour and user type')"
      ]
     },
     "execution_count": 33,
     "metadata": {},
     "output_type": "execute_result"
    },
    {
     "data": {
      "image/png": "[encoded data removed]",
      "text/plain": [
       "<Figure size 1152x576 with 1 Axes>"
      ]
     },
     "metadata": {
      "needs_background": "light"
     },
     "output_type": "display_data"
    }
   ],
   "source": [
    "df3 = round(df.groupby(['hour', 'member_casual'], as_index=False).mean(),2)\n",
    "plt.figure(figsize=(16,8))\n",
    "sns.barplot(data=df3,x='hour',y='ride_length',hue='member_casual',palette='coolwarm')\n",
    "plt.xlabel('Hour')\n",
    "plt.ylabel('Average Ride Length (minutes)')\n",
    "plt.title('Average bike ride by hour and user type')"
   ]
  },
  {
   "cell_type": "code",
   "execution_count": 34,
   "id": "c13ec433",
   "metadata": {
    "scrolled": true
   },
   "outputs": [
    {
     "data": {
      "image/png": "[encoded data removed]",
      "text/plain": [
       "<Figure size 1152x576 with 1 Axes>"
      ]
     },
     "metadata": {
      "needs_background": "light"
     },
     "output_type": "display_data"
    }
   ],
   "source": [
    "df4 = df.groupby(['rideable_type', 'member_casual'], as_index=False).count()\n",
    "plt.figure(figsize=(16,8))\n",
    "sns.barplot(data=df4,x = 'rideable_type', y = 'ride_id',hue='member_casual',palette='coolwarm')\n",
    "plt.xlabel('Rideable Type')\n",
    "plt.ylabel('No. of rides')\n",
    "plt.title('Rideable Type for each user type');"
   ]
  },
  {
   "cell_type": "code",
   "execution_count": 35,
   "id": "b229536a",
   "metadata": {
    "scrolled": true
   },
   "outputs": [
    {
     "data": {
      "text/plain": [
       "rideable_type  member_casual\n",
       "classic_bike   casual            889878\n",
       "               member           1749658\n",
       "docked_bike    casual            173747\n",
       "               member                 0\n",
       "electric_bike  casual           1273774\n",
       "               member           1716589\n",
       "Name: ride_id, dtype: int64"
      ]
     },
     "execution_count": 35,
     "metadata": {},
     "output_type": "execute_result"
    }
   ],
   "source": [
    "df.groupby(['rideable_type','member_casual'])['ride_id'].count()"
   ]
  },
  {
   "cell_type": "markdown",
   "id": "daed0d44",
   "metadata": {},
   "source": [
    "### Act"
   ]
  },
  {
   "cell_type": "markdown",
   "id": "a55ab162",
   "metadata": {},
   "source": [
    "### Conclusion"
   ]
  },
  {
   "cell_type": "markdown",
   "id": "03cfbe29",
   "metadata": {},
   "source": [
    "### Key Findings\n",
    "##### From the above visuals we can spot some key differences :\n",
    "\n",
    "1. Users with an annual membership complete more rides than casual riders\n",
    "2. Among casual riders, Fridays, Saturdays, and Sundays are the most popular usage days\n",
    "3. Docked_bike is the most popular rideable type for both casual and members.\n",
    "4. The average ride length of casual riders are more than twice as of members.\n",
    "5. From the average ride length difference, we can conclude that Annual members usually use bike share for daily commuting, while casual riders mostly use bike share for leisure rides mostly during Weekends.\n",
    "6. The demand on bike sharing service changes significantly around the year. Summers are the most popular, while winters see a more than 50% decrease in demand, most likely due to snowfall in Chicago."
   ]
  },
  {
   "cell_type": "markdown",
   "id": "24897079",
   "metadata": {},
   "source": [
    "### Recommendations\n",
    "1. A new Annual Membership package for Weekend usage only will attract current Weekend casual riders.\n",
    "2. Add more docked bikes to inventory given both casual riders and annual members prefer them over classic and electric bikes\n",
    "3. Promotions aiming at current Weekday casual riders must be implemented. Those promtions must include the financial savings of taking membership when compared to single passes and full day passes for a year long period."
   ]
  }
 ],
 "metadata": {
  "kernelspec": {
   "display_name": "Python 3 (ipykernel)",
   "language": "python",
   "name": "python3"
  },
  "language_info": {
   "codemirror_mode": {
    "name": "ipython",
    "version": 3
   },
   "file_extension": ".py",
   "mimetype": "text/x-python",
   "name": "python",
   "nbconvert_exporter": "python",
   "pygments_lexer": "ipython3",
   "version": "3.9.7"
  }
 },
 "nbformat": 4,
 "nbformat_minor": 5
}
